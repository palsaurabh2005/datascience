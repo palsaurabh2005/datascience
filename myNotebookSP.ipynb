{
  "metadata": {
    "kernelspec": {
      "name": "python",
      "display_name": "Python (Pyodide)",
      "language": "python"
    },
    "language_info": {
      "codemirror_mode": {
        "name": "python",
        "version": 3
      },
      "file_extension": ".py",
      "mimetype": "text/x-python",
      "name": "python",
      "nbconvert_exporter": "python",
      "pygments_lexer": "ipython3",
      "version": "3.8"
    }
  },
  "nbformat_minor": 4,
  "nbformat": 4,
  "cells": [
    {
      "cell_type": "markdown",
      "source": "# This is a Jupyter notebook (for Exercise 2 of the assignment)",
      "metadata": {}
    },
    {
      "cell_type": "markdown",
      "source": "## This section is an introduction about this notebook (and Exercise 3 of the assignment)",
      "metadata": {}
    },
    {
      "cell_type": "markdown",
      "source": "### Data Science Languages\n\nHere are some popular languages used in data science:\n\n- **Python**: Widely used for data analysis, machine learning, and deep learning.\n- **R**: Popular for statistical analysis and data visualization.\n- **SQL**: Essential for querying and managing databases.\n- **Julia**: Known for its high-performance numerical computing capabilities.\n- **SAS**: Used in advanced analytics, business intelligence, and data management.\n- **Scala**: Often used with Apache Spark for big data processing.",
      "metadata": {}
    },
    {
      "cell_type": "markdown",
      "source": "### Data Science Libraries\n\nHere are some popular libraries used in data science:\n\n- **Python Libraries**:\n  - **Pandas**: Data manipulation and analysis.\n  - **NumPy**: Numerical operations and array handling.\n  - **Scikit-learn**: Machine learning algorithms and tools.\n  - **TensorFlow**: Deep learning and neural networks.\n  - **Keras**: High-level API for neural networks, often used with TensorFlow.\n  - **Matplotlib**: Plotting and data visualization.\n  - **Seaborn**: Statistical data visualization built on Matplotlib.\n  - **SciPy**: Scientific computing and advanced mathematical functions.\n\n- **R Libraries**:\n  - **ggplot2**: Data visualization based on the Grammar of Graphics.\n  - **dplyr**: Data manipulation and transformation.\n  - **tidyr**: Data tidying and reshaping.\n  - **caret**: Tools for training and evaluating machine learning models.\n  - **shiny**: Interactive web applications for R.\n\n- **SQL Libraries**:\n  - **SQLAlchemy**: SQL toolkit and Object-Relational Mapping (ORM) library for Python.\n  - **Psycopg2**: PostgreSQL adapter for Python.\n\n- **Others**:\n  - **Apache Spark**: Big data processing and analytics (often used with libraries like PySpark for Python).",
      "metadata": {}
    },
    {
      "cell_type": "markdown",
      "source": "### Data Science Tools\n\n| Tool          | Description                                  | Language       |\n|---------------|----------------------------------------------|----------------|\n| **Jupyter Notebook** | Interactive environment for coding and analysis | Python, R      |\n| **RStudio**    | IDE for R, used for data analysis and visualization | R              |\n| **GitHub**     | Platform for version control and collaboration | Git             |\n| **TensorFlow** | Open-source library for deep learning        | Python         |\n| **Scikit-learn** | Library for machine learning algorithms     | Python         |\n| **Pandas**     | Data manipulation and analysis library       | Python         |\n| **Apache Spark** | Big data processing framework               | Scala, Python  |\n| **Matplotlib** | Plotting and data visualization library      | Python         |\n| **Tableau**    | Data visualization and business intelligence tool | N/A           |\n| **Keras**      | High-level API for neural networks           | Python         |\n\n",
      "metadata": {}
    },
    {
      "cell_type": "markdown",
      "source": "### Arithmetic Expression Examples\n\nArithmetic expressions are fundamental in programming and data science for performing mathematical operations. Here are some common examples of arithmetic expressions:\n\n**Addition**: Adding two numbers.\n   ```python\n   a = 5\n   b = 3\n   result = a + b\n   # Output: 8\n",
      "metadata": {}
    },
    {
      "cell_type": "code",
      "source": "# Define the numbers\nnum1 = 5\nnum2 = 3\nnum3 = 7\n\n# Perform multiplication\nproduct = num1 * num2\n\n# Perform addition\nsum_result = product + num3\n\n# Print the results\nprint(f\"The product of {num1} and {num2} is: {product}\")\nprint(f\"The sum of {product} and {num3} is: {sum_result}\")\n",
      "metadata": {
        "trusted": true
      },
      "outputs": [
        {
          "name": "stdout",
          "text": "The product of 5 and 3 is: 15\nThe sum of 15 and 7 is: 22\n",
          "output_type": "stream"
        }
      ],
      "execution_count": 2
    },
    {
      "cell_type": "code",
      "source": "# Function to convert minutes to hours\ndef minutes_to_hours(minutes):\n    hours = minutes / 60\n    return hours\n\n# Example usage\nminutes = 150  # You can change this value to convert different minutes\nhours = minutes_to_hours(minutes)\n\n# Print the result\nprint(f\"{minutes} minutes is equal to {hours:.2f} hours\")\n",
      "metadata": {
        "trusted": true
      },
      "outputs": [
        {
          "name": "stdout",
          "text": "150 minutes is equal to 2.50 hours\n",
          "output_type": "stream"
        }
      ],
      "execution_count": 3
    },
    {
      "cell_type": "markdown",
      "source": "### Objectives\n\nHere are the objectives for this notebook:\n\n1. **Understand Basic Arithmetic Operations**: Learn how to perform fundamental arithmetic operations such as addition, subtraction, multiplication, and division using Python.\n\n2. **Implement Conversion Functions**: Develop and apply functions to convert units, such as converting minutes to hours.\n\n3. **Practice Code Execution in Jupyter Notebook**: Gain hands-on experience with writing and executing Python code within Jupyter Notebook cells.\n\n4. **Apply Mathematical Operations to Real-World Scenarios**: Utilize arithmetic operations and conversion functions to solve practical problems and analyze data.\n\n5. **Enhance Markdown and Code Cell Usage**: Improve skills in creating and formatting Markdown cells for documentation, and writing code cells for computations.\n",
      "metadata": {}
    },
    {
      "cell_type": "markdown",
      "source": "# Author\n\n**Name:** Saurabh Pal",
      "metadata": {}
    },
    {
      "cell_type": "raw",
      "source": "### Notebook shared via GitHub\n\nYou can view and download my Jupyter Notebook from the following GitHub repository:\n\n[My Jupyter Notebook Repository](https://github.com/your-username/your-repository-name)\n",
      "metadata": {}
    },
    {
      "cell_type": "code",
      "source": "",
      "metadata": {
        "trusted": true
      },
      "outputs": [],
      "execution_count": null
    }
  ]
}